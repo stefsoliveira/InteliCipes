{
  "nbformat": 4,
  "nbformat_minor": 0,
  "metadata": {
    "colab": {
      "name": "Pre-processing.ipynb",
      "provenance": [],
      "collapsed_sections": [],
      "mount_file_id": "1w_1ETbd6HL8rvHQxqilyml23vRtNU6n8",
      "authorship_tag": "ABX9TyOw5d1pNk13R5U1Nt3LYd3i",
      "include_colab_link": true
    },
    "kernelspec": {
      "name": "python3",
      "display_name": "Python 3"
    }
  },
  "cells": [
    {
      "cell_type": "markdown",
      "metadata": {
        "id": "view-in-github",
        "colab_type": "text"
      },
      "source": [
        "<a href=\"https://colab.research.google.com/github/stefsoliveira/InteliCipes/blob/pre-processing/Pre_processing.ipynb\" target=\"_parent\"><img src=\"https://colab.research.google.com/assets/colab-badge.svg\" alt=\"Open In Colab\"/></a>"
      ]
    },
    {
      "cell_type": "markdown",
      "metadata": {
        "id": "pQds_RA9EnKQ"
      },
      "source": [
        "## Import libraries"
      ]
    },
    {
      "cell_type": "code",
      "metadata": {
        "id": "sZem68KdEQgS"
      },
      "source": [
        "import pandas as pd\n",
        "import numpy as np\n",
        "import matplotlib.pyplot as plt"
      ],
      "execution_count": null,
      "outputs": []
    },
    {
      "cell_type": "markdown",
      "metadata": {
        "id": "BL4UGFG9FBZ7"
      },
      "source": [
        "## Importing the dataset from the google drive"
      ]
    },
    {
      "cell_type": "code",
      "metadata": {
        "id": "cDfSk39fFDJP",
        "outputId": "6c5adeb4-504e-4c8e-e4ca-a115e7e9f0b1",
        "colab": {
          "base_uri": "https://localhost:8080/",
          "height": 34
        }
      },
      "source": [
        "from google.colab import drive\n",
        "drive.mount('/content/drive')"
      ],
      "execution_count": null,
      "outputs": [
        {
          "output_type": "stream",
          "text": [
            "Drive already mounted at /content/drive; to attempt to forcibly remount, call drive.mount(\"/content/drive\", force_remount=True).\n"
          ],
          "name": "stdout"
        }
      ]
    },
    {
      "cell_type": "markdown",
      "metadata": {
        "id": "1qciAteWHrDg"
      },
      "source": [
        ""
      ]
    },
    {
      "cell_type": "markdown",
      "metadata": {
        "id": "bTizHz6QlVOR"
      },
      "source": [
        "## Importing the tables"
      ]
    },
    {
      "cell_type": "code",
      "metadata": {
        "id": "g4WTvHHhIBqB"
      },
      "source": [
        "data = pd.read_csv('/content/drive/My Drive/InteliCipes/RAW_recipes.csv')"
      ],
      "execution_count": null,
      "outputs": []
    },
    {
      "cell_type": "markdown",
      "metadata": {
        "id": "to_FSoVjIR_x"
      },
      "source": [
        "# Querying null values"
      ]
    },
    {
      "cell_type": "code",
      "metadata": {
        "id": "g9HK-7yYITjw",
        "outputId": "b5b38ac3-69b2-480c-c50c-b5392138c363",
        "colab": {
          "base_uri": "https://localhost:8080/",
          "height": 238
        }
      },
      "source": [
        "print(data.isnull().any())"
      ],
      "execution_count": null,
      "outputs": [
        {
          "output_type": "stream",
          "text": [
            "name               True\n",
            "id                False\n",
            "minutes           False\n",
            "contributor_id    False\n",
            "submitted         False\n",
            "tags              False\n",
            "nutrition         False\n",
            "n_steps           False\n",
            "steps             False\n",
            "description        True\n",
            "ingredients       False\n",
            "n_ingredients     False\n",
            "dtype: bool\n"
          ],
          "name": "stdout"
        }
      ]
    },
    {
      "cell_type": "markdown",
      "metadata": {
        "id": "nim5YRHPJTva"
      },
      "source": [
        "# Removing null values"
      ]
    },
    {
      "cell_type": "code",
      "metadata": {
        "id": "_u-Sa34xKpt9"
      },
      "source": [
        "data.dropna(axis=0, inplace=True)"
      ],
      "execution_count": null,
      "outputs": []
    },
    {
      "cell_type": "code",
      "metadata": {
        "id": "S51O8aDgzBX4",
        "outputId": "8f1ee365-0621-4817-9ec9-55cdf4bd1440",
        "colab": {
          "base_uri": "https://localhost:8080/",
          "height": 238
        }
      },
      "source": [
        "data.isnull().any()"
      ],
      "execution_count": null,
      "outputs": [
        {
          "output_type": "execute_result",
          "data": {
            "text/plain": [
              "name              False\n",
              "id                False\n",
              "minutes           False\n",
              "contributor_id    False\n",
              "submitted         False\n",
              "tags              False\n",
              "nutrition         False\n",
              "n_steps           False\n",
              "steps             False\n",
              "description       False\n",
              "ingredients       False\n",
              "n_ingredients     False\n",
              "dtype: bool"
            ]
          },
          "metadata": {
            "tags": []
          },
          "execution_count": 121
        }
      ]
    },
    {
      "cell_type": "markdown",
      "metadata": {
        "id": "GP2mvsAfKyT2"
      },
      "source": [
        "# Removing columns that will not serve"
      ]
    },
    {
      "cell_type": "code",
      "metadata": {
        "id": "m11gPGvLK_OI",
        "outputId": "db58a5db-de33-4502-fb90-571a5b8fbff9",
        "colab": {
          "base_uri": "https://localhost:8080/",
          "height": 68
        }
      },
      "source": [
        "data=data.drop(columns=['contributor_id'])\n",
        "print(data.columns)"
      ],
      "execution_count": null,
      "outputs": [
        {
          "output_type": "stream",
          "text": [
            "Index(['name', 'id', 'minutes', 'submitted', 'tags', 'nutrition', 'n_steps',\n",
            "       'steps', 'description', 'ingredients', 'n_ingredients'],\n",
            "      dtype='object')\n"
          ],
          "name": "stdout"
        }
      ]
    },
    {
      "cell_type": "markdown",
      "metadata": {
        "id": "KCji57H5LGe_"
      },
      "source": [
        "# Rename column"
      ]
    },
    {
      "cell_type": "code",
      "metadata": {
        "id": "uLpT1-4kLOAO",
        "outputId": "861f9a7e-cf4c-4941-dc63-0940196361eb",
        "colab": {
          "base_uri": "https://localhost:8080/",
          "height": 68
        }
      },
      "source": [
        "data.rename(columns={'submitted': 'submitted_recipe'}, inplace=True)\n",
        "print(data.columns)"
      ],
      "execution_count": null,
      "outputs": [
        {
          "output_type": "stream",
          "text": [
            "Index(['name', 'id', 'minutes', 'submitted_recipe', 'tags', 'nutrition',\n",
            "       'n_steps', 'steps', 'description', 'ingredients', 'n_ingredients'],\n",
            "      dtype='object')\n"
          ],
          "name": "stdout"
        }
      ]
    },
    {
      "cell_type": "markdown",
      "metadata": {
        "id": "bvaXf-tRLSxI"
      },
      "source": [
        "# Indexing"
      ]
    },
    {
      "cell_type": "code",
      "metadata": {
        "id": "pucNXTUCLbEe",
        "outputId": "7b70cf1b-1b83-47f1-9285-43dfce92be0a",
        "colab": {
          "base_uri": "https://localhost:8080/",
          "height": 119
        }
      },
      "source": [
        "data.index"
      ],
      "execution_count": null,
      "outputs": [
        {
          "output_type": "execute_result",
          "data": {
            "text/plain": [
              "Int64Index([     0,      1,      2,      3,      4,      6,      7,      9,\n",
              "                10,     11,\n",
              "            ...\n",
              "            231627, 231628, 231629, 231630, 231631, 231632, 231633, 231634,\n",
              "            231635, 231636],\n",
              "           dtype='int64', length=226657)"
            ]
          },
          "metadata": {
            "tags": []
          },
          "execution_count": 124
        }
      ]
    },
    {
      "cell_type": "markdown",
      "metadata": {
        "id": "edbkWAkgLeUh"
      },
      "source": [
        "# Remove spaces to the right"
      ]
    },
    {
      "cell_type": "code",
      "metadata": {
        "id": "KzUBXG3UMPmw",
        "outputId": "5595470b-f85f-41b0-bb33-1108af1c27ac",
        "colab": {
          "base_uri": "https://localhost:8080/",
          "height": 119
        }
      },
      "source": [
        "data.name.str.rstrip().head()"
      ],
      "execution_count": null,
      "outputs": [
        {
          "output_type": "execute_result",
          "data": {
            "text/plain": [
              "0    arriba   baked winter squash mexican style\n",
              "1              a bit different  breakfast pizza\n",
              "2                     all in the kitchen  chili\n",
              "3                            alouette  potatoes\n",
              "4            amish  tomato ketchup  for canning\n",
              "Name: name, dtype: object"
            ]
          },
          "metadata": {
            "tags": []
          },
          "execution_count": 125
        }
      ]
    },
    {
      "cell_type": "code",
      "metadata": {
        "id": "b2HOfZNoMV7r",
        "outputId": "78d5d4c5-0425-4cf4-b944-2636526bb2c8",
        "colab": {
          "base_uri": "https://localhost:8080/",
          "height": 119
        }
      },
      "source": [
        "data.tags.str.rstrip().head()"
      ],
      "execution_count": null,
      "outputs": [
        {
          "output_type": "execute_result",
          "data": {
            "text/plain": [
              "0    ['60-minutes-or-less', 'time-to-make', 'course...\n",
              "1    ['30-minutes-or-less', 'time-to-make', 'course...\n",
              "2    ['time-to-make', 'course', 'preparation', 'mai...\n",
              "3    ['60-minutes-or-less', 'time-to-make', 'course...\n",
              "4    ['weeknight', 'time-to-make', 'course', 'main-...\n",
              "Name: tags, dtype: object"
            ]
          },
          "metadata": {
            "tags": []
          },
          "execution_count": 126
        }
      ]
    },
    {
      "cell_type": "code",
      "metadata": {
        "id": "a3XF4AfwMf9n",
        "outputId": "a4684ea0-b5cc-4d48-fa67-ebcfa1be8532",
        "colab": {
          "base_uri": "https://localhost:8080/",
          "height": 119
        }
      },
      "source": [
        "data.steps.str.rstrip().head()"
      ],
      "execution_count": null,
      "outputs": [
        {
          "output_type": "execute_result",
          "data": {
            "text/plain": [
              "0    ['make a choice and proceed with recipe', 'dep...\n",
              "1    ['preheat oven to 425 degrees f', 'press dough...\n",
              "2    ['brown ground beef in large pot', 'add choppe...\n",
              "3    ['place potatoes in a large pot of lightly sal...\n",
              "4    ['mix all ingredients& boil for 2 1 / 2 hours ...\n",
              "Name: steps, dtype: object"
            ]
          },
          "metadata": {
            "tags": []
          },
          "execution_count": 127
        }
      ]
    },
    {
      "cell_type": "code",
      "metadata": {
        "id": "tY57loqMMvvE",
        "outputId": "7c340df3-873c-4d8c-dc79-008aa3469326",
        "colab": {
          "base_uri": "https://localhost:8080/",
          "height": 119
        }
      },
      "source": [
        "data.description.str.rstrip().head()"
      ],
      "execution_count": null,
      "outputs": [
        {
          "output_type": "execute_result",
          "data": {
            "text/plain": [
              "0    autumn is my favorite time of year to cook! th...\n",
              "1    this recipe calls for the crust to be prebaked...\n",
              "2    this modified version of 'mom's' chili was a h...\n",
              "3    this is a super easy, great tasting, make ahea...\n",
              "4    my dh's amish mother raised him on this recipe...\n",
              "Name: description, dtype: object"
            ]
          },
          "metadata": {
            "tags": []
          },
          "execution_count": 128
        }
      ]
    },
    {
      "cell_type": "markdown",
      "metadata": {
        "id": "pRyTeqFzM4Kl"
      },
      "source": [
        "# Remove parentheses and brackets"
      ]
    },
    {
      "cell_type": "code",
      "metadata": {
        "id": "0lkoVtGVRDhX",
        "outputId": "c2f24a86-e2b3-4a7c-f228-5861e3a97b60",
        "colab": {
          "base_uri": "https://localhost:8080/",
          "height": 119
        }
      },
      "source": [
        "def remove_parenteses(item):\n",
        "    if '(' in item:\n",
        "        return item.replace('(','').replace(')','')\n",
        "    else:\n",
        "        return item\n",
        "    \n",
        "data.name.head().apply(remove_parenteses)"
      ],
      "execution_count": null,
      "outputs": [
        {
          "output_type": "execute_result",
          "data": {
            "text/plain": [
              "0    arriba   baked winter squash mexican style\n",
              "1              a bit different  breakfast pizza\n",
              "2                     all in the kitchen  chili\n",
              "3                            alouette  potatoes\n",
              "4            amish  tomato ketchup  for canning\n",
              "Name: name, dtype: object"
            ]
          },
          "metadata": {
            "tags": []
          },
          "execution_count": 129
        }
      ]
    },
    {
      "cell_type": "code",
      "metadata": {
        "id": "Sizawtw7YhAu",
        "outputId": "f3dfd10c-941c-4db0-f158-9aec2dc9bce2",
        "colab": {
          "base_uri": "https://localhost:8080/",
          "height": 221
        }
      },
      "source": [
        "data.tags.head().apply(remove_parenteses)\n",
        "data1 = data['tags'].str.extract('\\[(.*?)\\]', expand=False)\n",
        "data1"
      ],
      "execution_count": null,
      "outputs": [
        {
          "output_type": "execute_result",
          "data": {
            "text/plain": [
              "0         '60-minutes-or-less', 'time-to-make', 'course'...\n",
              "1         '30-minutes-or-less', 'time-to-make', 'course'...\n",
              "2         'time-to-make', 'course', 'preparation', 'main...\n",
              "3         '60-minutes-or-less', 'time-to-make', 'course'...\n",
              "4         'weeknight', 'time-to-make', 'course', 'main-i...\n",
              "                                ...                        \n",
              "231632    'ham', '60-minutes-or-less', 'time-to-make', '...\n",
              "231633    '15-minutes-or-less', 'time-to-make', 'course'...\n",
              "231634    '60-minutes-or-less', 'time-to-make', 'course'...\n",
              "231635    '30-minutes-or-less', 'time-to-make', 'course'...\n",
              "231636    '30-minutes-or-less', 'time-to-make', 'course'...\n",
              "Name: tags, Length: 226657, dtype: object"
            ]
          },
          "metadata": {
            "tags": []
          },
          "execution_count": 130
        }
      ]
    },
    {
      "cell_type": "code",
      "metadata": {
        "id": "_W3zJvusYocP",
        "outputId": "2147722f-d265-40cc-cf17-f268e203fd05",
        "colab": {
          "base_uri": "https://localhost:8080/",
          "height": 221
        }
      },
      "source": [
        "data.steps.head().apply(remove_parenteses)\n",
        "data1 = data['steps'].str.extract('\\[(.*?)\\]', expand=False)\n",
        "data1"
      ],
      "execution_count": null,
      "outputs": [
        {
          "output_type": "execute_result",
          "data": {
            "text/plain": [
              "0         'make a choice and proceed with recipe', 'depe...\n",
              "1         'preheat oven to 425 degrees f', 'press dough ...\n",
              "2         'brown ground beef in large pot', 'add chopped...\n",
              "3         'place potatoes in a large pot of lightly salt...\n",
              "4         'mix all ingredients& boil for 2 1 / 2 hours ,...\n",
              "                                ...                        \n",
              "231632    'heat oil in a 4-quart dutch oven', 'add celer...\n",
              "231633            'mix all ingredients together thoroughly'\n",
              "231634    'in a bowl , combine the mashed yolks and mayo...\n",
              "231635    'place melted butter in a large mixing bowl an...\n",
              "231636    'whip sugar and shortening in a large bowl , a...\n",
              "Name: steps, Length: 226657, dtype: object"
            ]
          },
          "metadata": {
            "tags": []
          },
          "execution_count": 131
        }
      ]
    },
    {
      "cell_type": "code",
      "metadata": {
        "id": "KBkWAm_IYrUa",
        "outputId": "d55ffc8c-3009-47a2-b184-c6b6b40266b2",
        "colab": {
          "base_uri": "https://localhost:8080/",
          "height": 119
        }
      },
      "source": [
        "data.description.head().apply(remove_parenteses)"
      ],
      "execution_count": null,
      "outputs": [
        {
          "output_type": "execute_result",
          "data": {
            "text/plain": [
              "0    autumn is my favorite time of year to cook! th...\n",
              "1    this recipe calls for the crust to be prebaked...\n",
              "2    this modified version of 'mom's' chili was a h...\n",
              "3    this is a super easy, great tasting, make ahea...\n",
              "4    my dh's amish mother raised him on this recipe...\n",
              "Name: description, dtype: object"
            ]
          },
          "metadata": {
            "tags": []
          },
          "execution_count": 132
        }
      ]
    },
    {
      "cell_type": "markdown",
      "metadata": {
        "id": "fXAVOBodxYwI"
      },
      "source": [
        "# Modify type"
      ]
    },
    {
      "cell_type": "code",
      "metadata": {
        "id": "BY4pcQIVxhvd"
      },
      "source": [
        "data.id=data.id.astype('int32')\n",
        "data.minutes=data.minutes.astype('int32')\n",
        "data.n_steps=data.n_steps.astype('int32')\n",
        "data.n_ingredients=data.n_ingredients.astype('int32')"
      ],
      "execution_count": null,
      "outputs": []
    },
    {
      "cell_type": "markdown",
      "metadata": {
        "id": "H3PBveK9x0lw"
      },
      "source": [
        "# General dataset information"
      ]
    },
    {
      "cell_type": "code",
      "metadata": {
        "id": "4zeKl3uTyBXI",
        "outputId": "a647e476-dbb7-4038-d448-891383a38b6f",
        "colab": {
          "base_uri": "https://localhost:8080/",
          "height": 408
        }
      },
      "source": [
        "data.head()"
      ],
      "execution_count": null,
      "outputs": [
        {
          "output_type": "execute_result",
          "data": {
            "text/html": [
              "<div>\n",
              "<style scoped>\n",
              "    .dataframe tbody tr th:only-of-type {\n",
              "        vertical-align: middle;\n",
              "    }\n",
              "\n",
              "    .dataframe tbody tr th {\n",
              "        vertical-align: top;\n",
              "    }\n",
              "\n",
              "    .dataframe thead th {\n",
              "        text-align: right;\n",
              "    }\n",
              "</style>\n",
              "<table border=\"1\" class=\"dataframe\">\n",
              "  <thead>\n",
              "    <tr style=\"text-align: right;\">\n",
              "      <th></th>\n",
              "      <th>name</th>\n",
              "      <th>id</th>\n",
              "      <th>minutes</th>\n",
              "      <th>submitted_recipe</th>\n",
              "      <th>tags</th>\n",
              "      <th>nutrition</th>\n",
              "      <th>n_steps</th>\n",
              "      <th>steps</th>\n",
              "      <th>description</th>\n",
              "      <th>ingredients</th>\n",
              "      <th>n_ingredients</th>\n",
              "    </tr>\n",
              "  </thead>\n",
              "  <tbody>\n",
              "    <tr>\n",
              "      <th>0</th>\n",
              "      <td>arriba   baked winter squash mexican style</td>\n",
              "      <td>137739</td>\n",
              "      <td>55</td>\n",
              "      <td>2005-09-16</td>\n",
              "      <td>['60-minutes-or-less', 'time-to-make', 'course...</td>\n",
              "      <td>[51.5, 0.0, 13.0, 0.0, 2.0, 0.0, 4.0]</td>\n",
              "      <td>11</td>\n",
              "      <td>['make a choice and proceed with recipe', 'dep...</td>\n",
              "      <td>autumn is my favorite time of year to cook! th...</td>\n",
              "      <td>['winter squash', 'mexican seasoning', 'mixed ...</td>\n",
              "      <td>7</td>\n",
              "    </tr>\n",
              "    <tr>\n",
              "      <th>1</th>\n",
              "      <td>a bit different  breakfast pizza</td>\n",
              "      <td>31490</td>\n",
              "      <td>30</td>\n",
              "      <td>2002-06-17</td>\n",
              "      <td>['30-minutes-or-less', 'time-to-make', 'course...</td>\n",
              "      <td>[173.4, 18.0, 0.0, 17.0, 22.0, 35.0, 1.0]</td>\n",
              "      <td>9</td>\n",
              "      <td>['preheat oven to 425 degrees f', 'press dough...</td>\n",
              "      <td>this recipe calls for the crust to be prebaked...</td>\n",
              "      <td>['prepared pizza crust', 'sausage patty', 'egg...</td>\n",
              "      <td>6</td>\n",
              "    </tr>\n",
              "    <tr>\n",
              "      <th>2</th>\n",
              "      <td>all in the kitchen  chili</td>\n",
              "      <td>112140</td>\n",
              "      <td>130</td>\n",
              "      <td>2005-02-25</td>\n",
              "      <td>['time-to-make', 'course', 'preparation', 'mai...</td>\n",
              "      <td>[269.8, 22.0, 32.0, 48.0, 39.0, 27.0, 5.0]</td>\n",
              "      <td>6</td>\n",
              "      <td>['brown ground beef in large pot', 'add choppe...</td>\n",
              "      <td>this modified version of 'mom's' chili was a h...</td>\n",
              "      <td>['ground beef', 'yellow onions', 'diced tomato...</td>\n",
              "      <td>13</td>\n",
              "    </tr>\n",
              "    <tr>\n",
              "      <th>3</th>\n",
              "      <td>alouette  potatoes</td>\n",
              "      <td>59389</td>\n",
              "      <td>45</td>\n",
              "      <td>2003-04-14</td>\n",
              "      <td>['60-minutes-or-less', 'time-to-make', 'course...</td>\n",
              "      <td>[368.1, 17.0, 10.0, 2.0, 14.0, 8.0, 20.0]</td>\n",
              "      <td>11</td>\n",
              "      <td>['place potatoes in a large pot of lightly sal...</td>\n",
              "      <td>this is a super easy, great tasting, make ahea...</td>\n",
              "      <td>['spreadable cheese with garlic and herbs', 'n...</td>\n",
              "      <td>11</td>\n",
              "    </tr>\n",
              "    <tr>\n",
              "      <th>4</th>\n",
              "      <td>amish  tomato ketchup  for canning</td>\n",
              "      <td>44061</td>\n",
              "      <td>190</td>\n",
              "      <td>2002-10-25</td>\n",
              "      <td>['weeknight', 'time-to-make', 'course', 'main-...</td>\n",
              "      <td>[352.9, 1.0, 337.0, 23.0, 3.0, 0.0, 28.0]</td>\n",
              "      <td>5</td>\n",
              "      <td>['mix all ingredients&amp; boil for 2 1 / 2 hours ...</td>\n",
              "      <td>my dh's amish mother raised him on this recipe...</td>\n",
              "      <td>['tomato juice', 'apple cider vinegar', 'sugar...</td>\n",
              "      <td>8</td>\n",
              "    </tr>\n",
              "  </tbody>\n",
              "</table>\n",
              "</div>"
            ],
            "text/plain": [
              "                                         name  ...  n_ingredients\n",
              "0  arriba   baked winter squash mexican style  ...              7\n",
              "1            a bit different  breakfast pizza  ...              6\n",
              "2                   all in the kitchen  chili  ...             13\n",
              "3                          alouette  potatoes  ...             11\n",
              "4          amish  tomato ketchup  for canning  ...              8\n",
              "\n",
              "[5 rows x 11 columns]"
            ]
          },
          "metadata": {
            "tags": []
          },
          "execution_count": 134
        }
      ]
    },
    {
      "cell_type": "code",
      "metadata": {
        "id": "4NTBJtfKyMPK",
        "outputId": "735e27e6-0eaf-4d2d-93e1-3c0fd183e482",
        "colab": {
          "base_uri": "https://localhost:8080/",
          "height": 323
        }
      },
      "source": [
        "data.info()"
      ],
      "execution_count": null,
      "outputs": [
        {
          "output_type": "stream",
          "text": [
            "<class 'pandas.core.frame.DataFrame'>\n",
            "Int64Index: 226657 entries, 0 to 231636\n",
            "Data columns (total 11 columns):\n",
            " #   Column            Non-Null Count   Dtype \n",
            "---  ------            --------------   ----- \n",
            " 0   name              226657 non-null  object\n",
            " 1   id                226657 non-null  int32 \n",
            " 2   minutes           226657 non-null  int32 \n",
            " 3   submitted_recipe  226657 non-null  object\n",
            " 4   tags              226657 non-null  object\n",
            " 5   nutrition         226657 non-null  object\n",
            " 6   n_steps           226657 non-null  int32 \n",
            " 7   steps             226657 non-null  object\n",
            " 8   description       226657 non-null  object\n",
            " 9   ingredients       226657 non-null  object\n",
            " 10  n_ingredients     226657 non-null  int32 \n",
            "dtypes: int32(4), object(7)\n",
            "memory usage: 17.3+ MB\n"
          ],
          "name": "stdout"
        }
      ]
    }
  ]
}